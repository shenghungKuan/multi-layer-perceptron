{
 "cells": [
  {
   "cell_type": "markdown",
   "id": "noted-template",
   "metadata": {},
   "source": [
    "# Import data"
   ]
  },
  {
   "cell_type": "code",
   "execution_count": 1,
   "id": "stopped-jewel",
   "metadata": {},
   "outputs": [
    {
     "data": {
      "text/html": [
       "<div>\n",
       "<style scoped>\n",
       "    .dataframe tbody tr th:only-of-type {\n",
       "        vertical-align: middle;\n",
       "    }\n",
       "\n",
       "    .dataframe tbody tr th {\n",
       "        vertical-align: top;\n",
       "    }\n",
       "\n",
       "    .dataframe thead th {\n",
       "        text-align: right;\n",
       "    }\n",
       "</style>\n",
       "<table border=\"1\" class=\"dataframe\">\n",
       "  <thead>\n",
       "    <tr style=\"text-align: right;\">\n",
       "      <th></th>\n",
       "      <th>fixed acidity</th>\n",
       "      <th>volatile acidity</th>\n",
       "      <th>citric acid</th>\n",
       "      <th>residual sugar</th>\n",
       "      <th>chlorides</th>\n",
       "      <th>free sulfur dioxide</th>\n",
       "      <th>total sulfur dioxide</th>\n",
       "      <th>density</th>\n",
       "      <th>pH</th>\n",
       "      <th>sulphates</th>\n",
       "      <th>alcohol</th>\n",
       "      <th>quality</th>\n",
       "    </tr>\n",
       "  </thead>\n",
       "  <tbody>\n",
       "    <tr>\n",
       "      <th>0</th>\n",
       "      <td>7.4</td>\n",
       "      <td>0.700</td>\n",
       "      <td>0.00</td>\n",
       "      <td>1.9</td>\n",
       "      <td>0.076</td>\n",
       "      <td>11.0</td>\n",
       "      <td>34.0</td>\n",
       "      <td>0.99780</td>\n",
       "      <td>3.51</td>\n",
       "      <td>0.56</td>\n",
       "      <td>9.4</td>\n",
       "      <td>5</td>\n",
       "    </tr>\n",
       "    <tr>\n",
       "      <th>1</th>\n",
       "      <td>7.8</td>\n",
       "      <td>0.880</td>\n",
       "      <td>0.00</td>\n",
       "      <td>2.6</td>\n",
       "      <td>0.098</td>\n",
       "      <td>25.0</td>\n",
       "      <td>67.0</td>\n",
       "      <td>0.99680</td>\n",
       "      <td>3.20</td>\n",
       "      <td>0.68</td>\n",
       "      <td>9.8</td>\n",
       "      <td>5</td>\n",
       "    </tr>\n",
       "    <tr>\n",
       "      <th>2</th>\n",
       "      <td>7.8</td>\n",
       "      <td>0.760</td>\n",
       "      <td>0.04</td>\n",
       "      <td>2.3</td>\n",
       "      <td>0.092</td>\n",
       "      <td>15.0</td>\n",
       "      <td>54.0</td>\n",
       "      <td>0.99700</td>\n",
       "      <td>3.26</td>\n",
       "      <td>0.65</td>\n",
       "      <td>9.8</td>\n",
       "      <td>5</td>\n",
       "    </tr>\n",
       "    <tr>\n",
       "      <th>3</th>\n",
       "      <td>11.2</td>\n",
       "      <td>0.280</td>\n",
       "      <td>0.56</td>\n",
       "      <td>1.9</td>\n",
       "      <td>0.075</td>\n",
       "      <td>17.0</td>\n",
       "      <td>60.0</td>\n",
       "      <td>0.99800</td>\n",
       "      <td>3.16</td>\n",
       "      <td>0.58</td>\n",
       "      <td>9.8</td>\n",
       "      <td>6</td>\n",
       "    </tr>\n",
       "    <tr>\n",
       "      <th>4</th>\n",
       "      <td>7.4</td>\n",
       "      <td>0.700</td>\n",
       "      <td>0.00</td>\n",
       "      <td>1.9</td>\n",
       "      <td>0.076</td>\n",
       "      <td>11.0</td>\n",
       "      <td>34.0</td>\n",
       "      <td>0.99780</td>\n",
       "      <td>3.51</td>\n",
       "      <td>0.56</td>\n",
       "      <td>9.4</td>\n",
       "      <td>5</td>\n",
       "    </tr>\n",
       "    <tr>\n",
       "      <th>...</th>\n",
       "      <td>...</td>\n",
       "      <td>...</td>\n",
       "      <td>...</td>\n",
       "      <td>...</td>\n",
       "      <td>...</td>\n",
       "      <td>...</td>\n",
       "      <td>...</td>\n",
       "      <td>...</td>\n",
       "      <td>...</td>\n",
       "      <td>...</td>\n",
       "      <td>...</td>\n",
       "      <td>...</td>\n",
       "    </tr>\n",
       "    <tr>\n",
       "      <th>1594</th>\n",
       "      <td>6.2</td>\n",
       "      <td>0.600</td>\n",
       "      <td>0.08</td>\n",
       "      <td>2.0</td>\n",
       "      <td>0.090</td>\n",
       "      <td>32.0</td>\n",
       "      <td>44.0</td>\n",
       "      <td>0.99490</td>\n",
       "      <td>3.45</td>\n",
       "      <td>0.58</td>\n",
       "      <td>10.5</td>\n",
       "      <td>5</td>\n",
       "    </tr>\n",
       "    <tr>\n",
       "      <th>1595</th>\n",
       "      <td>5.9</td>\n",
       "      <td>0.550</td>\n",
       "      <td>0.10</td>\n",
       "      <td>2.2</td>\n",
       "      <td>0.062</td>\n",
       "      <td>39.0</td>\n",
       "      <td>51.0</td>\n",
       "      <td>0.99512</td>\n",
       "      <td>3.52</td>\n",
       "      <td>0.76</td>\n",
       "      <td>11.2</td>\n",
       "      <td>6</td>\n",
       "    </tr>\n",
       "    <tr>\n",
       "      <th>1596</th>\n",
       "      <td>6.3</td>\n",
       "      <td>0.510</td>\n",
       "      <td>0.13</td>\n",
       "      <td>2.3</td>\n",
       "      <td>0.076</td>\n",
       "      <td>29.0</td>\n",
       "      <td>40.0</td>\n",
       "      <td>0.99574</td>\n",
       "      <td>3.42</td>\n",
       "      <td>0.75</td>\n",
       "      <td>11.0</td>\n",
       "      <td>6</td>\n",
       "    </tr>\n",
       "    <tr>\n",
       "      <th>1597</th>\n",
       "      <td>5.9</td>\n",
       "      <td>0.645</td>\n",
       "      <td>0.12</td>\n",
       "      <td>2.0</td>\n",
       "      <td>0.075</td>\n",
       "      <td>32.0</td>\n",
       "      <td>44.0</td>\n",
       "      <td>0.99547</td>\n",
       "      <td>3.57</td>\n",
       "      <td>0.71</td>\n",
       "      <td>10.2</td>\n",
       "      <td>5</td>\n",
       "    </tr>\n",
       "    <tr>\n",
       "      <th>1598</th>\n",
       "      <td>6.0</td>\n",
       "      <td>0.310</td>\n",
       "      <td>0.47</td>\n",
       "      <td>3.6</td>\n",
       "      <td>0.067</td>\n",
       "      <td>18.0</td>\n",
       "      <td>42.0</td>\n",
       "      <td>0.99549</td>\n",
       "      <td>3.39</td>\n",
       "      <td>0.66</td>\n",
       "      <td>11.0</td>\n",
       "      <td>6</td>\n",
       "    </tr>\n",
       "  </tbody>\n",
       "</table>\n",
       "<p>1599 rows × 12 columns</p>\n",
       "</div>"
      ],
      "text/plain": [
       "      fixed acidity  volatile acidity  citric acid  residual sugar  chlorides  \\\n",
       "0               7.4             0.700         0.00             1.9      0.076   \n",
       "1               7.8             0.880         0.00             2.6      0.098   \n",
       "2               7.8             0.760         0.04             2.3      0.092   \n",
       "3              11.2             0.280         0.56             1.9      0.075   \n",
       "4               7.4             0.700         0.00             1.9      0.076   \n",
       "...             ...               ...          ...             ...        ...   \n",
       "1594            6.2             0.600         0.08             2.0      0.090   \n",
       "1595            5.9             0.550         0.10             2.2      0.062   \n",
       "1596            6.3             0.510         0.13             2.3      0.076   \n",
       "1597            5.9             0.645         0.12             2.0      0.075   \n",
       "1598            6.0             0.310         0.47             3.6      0.067   \n",
       "\n",
       "      free sulfur dioxide  total sulfur dioxide  density    pH  sulphates  \\\n",
       "0                    11.0                  34.0  0.99780  3.51       0.56   \n",
       "1                    25.0                  67.0  0.99680  3.20       0.68   \n",
       "2                    15.0                  54.0  0.99700  3.26       0.65   \n",
       "3                    17.0                  60.0  0.99800  3.16       0.58   \n",
       "4                    11.0                  34.0  0.99780  3.51       0.56   \n",
       "...                   ...                   ...      ...   ...        ...   \n",
       "1594                 32.0                  44.0  0.99490  3.45       0.58   \n",
       "1595                 39.0                  51.0  0.99512  3.52       0.76   \n",
       "1596                 29.0                  40.0  0.99574  3.42       0.75   \n",
       "1597                 32.0                  44.0  0.99547  3.57       0.71   \n",
       "1598                 18.0                  42.0  0.99549  3.39       0.66   \n",
       "\n",
       "      alcohol  quality  \n",
       "0         9.4        5  \n",
       "1         9.8        5  \n",
       "2         9.8        5  \n",
       "3         9.8        6  \n",
       "4         9.4        5  \n",
       "...       ...      ...  \n",
       "1594     10.5        5  \n",
       "1595     11.2        6  \n",
       "1596     11.0        6  \n",
       "1597     10.2        5  \n",
       "1598     11.0        6  \n",
       "\n",
       "[1599 rows x 12 columns]"
      ]
     },
     "execution_count": 1,
     "metadata": {},
     "output_type": "execute_result"
    }
   ],
   "source": [
    "import pandas as pd\n",
    "\n",
    "df = pd.read_csv('winequality-red.csv')\n",
    "df"
   ]
  },
  {
   "cell_type": "code",
   "execution_count": 2,
   "id": "polished-exploration",
   "metadata": {},
   "outputs": [
    {
     "name": "stdout",
     "output_type": "stream",
     "text": [
      "<class 'pandas.core.frame.DataFrame'>\n",
      "RangeIndex: 1599 entries, 0 to 1598\n",
      "Data columns (total 12 columns):\n",
      " #   Column                Non-Null Count  Dtype  \n",
      "---  ------                --------------  -----  \n",
      " 0   fixed acidity         1599 non-null   float64\n",
      " 1   volatile acidity      1599 non-null   float64\n",
      " 2   citric acid           1599 non-null   float64\n",
      " 3   residual sugar        1599 non-null   float64\n",
      " 4   chlorides             1599 non-null   float64\n",
      " 5   free sulfur dioxide   1599 non-null   float64\n",
      " 6   total sulfur dioxide  1599 non-null   float64\n",
      " 7   density               1599 non-null   float64\n",
      " 8   pH                    1599 non-null   float64\n",
      " 9   sulphates             1599 non-null   float64\n",
      " 10  alcohol               1599 non-null   float64\n",
      " 11  quality               1599 non-null   int64  \n",
      "dtypes: float64(11), int64(1)\n",
      "memory usage: 150.0 KB\n"
     ]
    }
   ],
   "source": [
    "df.info()"
   ]
  },
  {
   "cell_type": "code",
   "execution_count": 3,
   "id": "82fde05c-92f0-4406-9a50-b8c7bb3f9aa1",
   "metadata": {},
   "outputs": [
    {
     "data": {
      "text/html": [
       "<div>\n",
       "<style scoped>\n",
       "    .dataframe tbody tr th:only-of-type {\n",
       "        vertical-align: middle;\n",
       "    }\n",
       "\n",
       "    .dataframe tbody tr th {\n",
       "        vertical-align: top;\n",
       "    }\n",
       "\n",
       "    .dataframe thead th {\n",
       "        text-align: right;\n",
       "    }\n",
       "</style>\n",
       "<table border=\"1\" class=\"dataframe\">\n",
       "  <thead>\n",
       "    <tr style=\"text-align: right;\">\n",
       "      <th></th>\n",
       "      <th>fixed acidity</th>\n",
       "      <th>volatile acidity</th>\n",
       "      <th>citric acid</th>\n",
       "      <th>residual sugar</th>\n",
       "      <th>chlorides</th>\n",
       "      <th>free sulfur dioxide</th>\n",
       "      <th>total sulfur dioxide</th>\n",
       "      <th>density</th>\n",
       "      <th>pH</th>\n",
       "      <th>sulphates</th>\n",
       "      <th>alcohol</th>\n",
       "      <th>quality</th>\n",
       "    </tr>\n",
       "  </thead>\n",
       "  <tbody>\n",
       "    <tr>\n",
       "      <th>count</th>\n",
       "      <td>1599.000000</td>\n",
       "      <td>1599.000000</td>\n",
       "      <td>1599.000000</td>\n",
       "      <td>1599.000000</td>\n",
       "      <td>1599.000000</td>\n",
       "      <td>1599.000000</td>\n",
       "      <td>1599.000000</td>\n",
       "      <td>1599.000000</td>\n",
       "      <td>1599.000000</td>\n",
       "      <td>1599.000000</td>\n",
       "      <td>1599.000000</td>\n",
       "      <td>1599.000000</td>\n",
       "    </tr>\n",
       "    <tr>\n",
       "      <th>mean</th>\n",
       "      <td>8.319637</td>\n",
       "      <td>0.527821</td>\n",
       "      <td>0.270976</td>\n",
       "      <td>2.538806</td>\n",
       "      <td>0.087467</td>\n",
       "      <td>15.874922</td>\n",
       "      <td>46.467792</td>\n",
       "      <td>0.996747</td>\n",
       "      <td>3.311113</td>\n",
       "      <td>0.658149</td>\n",
       "      <td>10.422983</td>\n",
       "      <td>5.636023</td>\n",
       "    </tr>\n",
       "    <tr>\n",
       "      <th>std</th>\n",
       "      <td>1.741096</td>\n",
       "      <td>0.179060</td>\n",
       "      <td>0.194801</td>\n",
       "      <td>1.409928</td>\n",
       "      <td>0.047065</td>\n",
       "      <td>10.460157</td>\n",
       "      <td>32.895324</td>\n",
       "      <td>0.001887</td>\n",
       "      <td>0.154386</td>\n",
       "      <td>0.169507</td>\n",
       "      <td>1.065668</td>\n",
       "      <td>0.807569</td>\n",
       "    </tr>\n",
       "    <tr>\n",
       "      <th>min</th>\n",
       "      <td>4.600000</td>\n",
       "      <td>0.120000</td>\n",
       "      <td>0.000000</td>\n",
       "      <td>0.900000</td>\n",
       "      <td>0.012000</td>\n",
       "      <td>1.000000</td>\n",
       "      <td>6.000000</td>\n",
       "      <td>0.990070</td>\n",
       "      <td>2.740000</td>\n",
       "      <td>0.330000</td>\n",
       "      <td>8.400000</td>\n",
       "      <td>3.000000</td>\n",
       "    </tr>\n",
       "    <tr>\n",
       "      <th>25%</th>\n",
       "      <td>7.100000</td>\n",
       "      <td>0.390000</td>\n",
       "      <td>0.090000</td>\n",
       "      <td>1.900000</td>\n",
       "      <td>0.070000</td>\n",
       "      <td>7.000000</td>\n",
       "      <td>22.000000</td>\n",
       "      <td>0.995600</td>\n",
       "      <td>3.210000</td>\n",
       "      <td>0.550000</td>\n",
       "      <td>9.500000</td>\n",
       "      <td>5.000000</td>\n",
       "    </tr>\n",
       "    <tr>\n",
       "      <th>50%</th>\n",
       "      <td>7.900000</td>\n",
       "      <td>0.520000</td>\n",
       "      <td>0.260000</td>\n",
       "      <td>2.200000</td>\n",
       "      <td>0.079000</td>\n",
       "      <td>14.000000</td>\n",
       "      <td>38.000000</td>\n",
       "      <td>0.996750</td>\n",
       "      <td>3.310000</td>\n",
       "      <td>0.620000</td>\n",
       "      <td>10.200000</td>\n",
       "      <td>6.000000</td>\n",
       "    </tr>\n",
       "    <tr>\n",
       "      <th>75%</th>\n",
       "      <td>9.200000</td>\n",
       "      <td>0.640000</td>\n",
       "      <td>0.420000</td>\n",
       "      <td>2.600000</td>\n",
       "      <td>0.090000</td>\n",
       "      <td>21.000000</td>\n",
       "      <td>62.000000</td>\n",
       "      <td>0.997835</td>\n",
       "      <td>3.400000</td>\n",
       "      <td>0.730000</td>\n",
       "      <td>11.100000</td>\n",
       "      <td>6.000000</td>\n",
       "    </tr>\n",
       "    <tr>\n",
       "      <th>max</th>\n",
       "      <td>15.900000</td>\n",
       "      <td>1.580000</td>\n",
       "      <td>1.000000</td>\n",
       "      <td>15.500000</td>\n",
       "      <td>0.611000</td>\n",
       "      <td>72.000000</td>\n",
       "      <td>289.000000</td>\n",
       "      <td>1.003690</td>\n",
       "      <td>4.010000</td>\n",
       "      <td>2.000000</td>\n",
       "      <td>14.900000</td>\n",
       "      <td>8.000000</td>\n",
       "    </tr>\n",
       "  </tbody>\n",
       "</table>\n",
       "</div>"
      ],
      "text/plain": [
       "       fixed acidity  volatile acidity  citric acid  residual sugar  \\\n",
       "count    1599.000000       1599.000000  1599.000000     1599.000000   \n",
       "mean        8.319637          0.527821     0.270976        2.538806   \n",
       "std         1.741096          0.179060     0.194801        1.409928   \n",
       "min         4.600000          0.120000     0.000000        0.900000   \n",
       "25%         7.100000          0.390000     0.090000        1.900000   \n",
       "50%         7.900000          0.520000     0.260000        2.200000   \n",
       "75%         9.200000          0.640000     0.420000        2.600000   \n",
       "max        15.900000          1.580000     1.000000       15.500000   \n",
       "\n",
       "         chlorides  free sulfur dioxide  total sulfur dioxide      density  \\\n",
       "count  1599.000000          1599.000000           1599.000000  1599.000000   \n",
       "mean      0.087467            15.874922             46.467792     0.996747   \n",
       "std       0.047065            10.460157             32.895324     0.001887   \n",
       "min       0.012000             1.000000              6.000000     0.990070   \n",
       "25%       0.070000             7.000000             22.000000     0.995600   \n",
       "50%       0.079000            14.000000             38.000000     0.996750   \n",
       "75%       0.090000            21.000000             62.000000     0.997835   \n",
       "max       0.611000            72.000000            289.000000     1.003690   \n",
       "\n",
       "                pH    sulphates      alcohol      quality  \n",
       "count  1599.000000  1599.000000  1599.000000  1599.000000  \n",
       "mean      3.311113     0.658149    10.422983     5.636023  \n",
       "std       0.154386     0.169507     1.065668     0.807569  \n",
       "min       2.740000     0.330000     8.400000     3.000000  \n",
       "25%       3.210000     0.550000     9.500000     5.000000  \n",
       "50%       3.310000     0.620000    10.200000     6.000000  \n",
       "75%       3.400000     0.730000    11.100000     6.000000  \n",
       "max       4.010000     2.000000    14.900000     8.000000  "
      ]
     },
     "execution_count": 3,
     "metadata": {},
     "output_type": "execute_result"
    }
   ],
   "source": [
    "df.describe()"
   ]
  },
  {
   "cell_type": "code",
   "execution_count": 4,
   "id": "6be558a8-34e9-4d44-ba68-769ef397349a",
   "metadata": {},
   "outputs": [
    {
     "data": {
      "text/plain": [
       "array([5, 6, 7, 4, 8, 3])"
      ]
     },
     "execution_count": 4,
     "metadata": {},
     "output_type": "execute_result"
    }
   ],
   "source": [
    "df.quality.unique()"
   ]
  },
  {
   "cell_type": "markdown",
   "id": "stuck-visit",
   "metadata": {},
   "source": [
    "# Creating a basic MLP"
   ]
  },
  {
   "cell_type": "code",
   "execution_count": 5,
   "id": "739fb1d5-6ac7-4f98-8b2e-8bc18225baf4",
   "metadata": {},
   "outputs": [
    {
     "data": {
      "text/html": [
       "<div>\n",
       "<style scoped>\n",
       "    .dataframe tbody tr th:only-of-type {\n",
       "        vertical-align: middle;\n",
       "    }\n",
       "\n",
       "    .dataframe tbody tr th {\n",
       "        vertical-align: top;\n",
       "    }\n",
       "\n",
       "    .dataframe thead th {\n",
       "        text-align: right;\n",
       "    }\n",
       "</style>\n",
       "<table border=\"1\" class=\"dataframe\">\n",
       "  <thead>\n",
       "    <tr style=\"text-align: right;\">\n",
       "      <th></th>\n",
       "      <th>fixed acidity</th>\n",
       "      <th>volatile acidity</th>\n",
       "      <th>citric acid</th>\n",
       "      <th>residual sugar</th>\n",
       "      <th>chlorides</th>\n",
       "      <th>free sulfur dioxide</th>\n",
       "      <th>total sulfur dioxide</th>\n",
       "      <th>density</th>\n",
       "      <th>pH</th>\n",
       "      <th>sulphates</th>\n",
       "      <th>alcohol</th>\n",
       "    </tr>\n",
       "  </thead>\n",
       "  <tbody>\n",
       "    <tr>\n",
       "      <th>0</th>\n",
       "      <td>7.4</td>\n",
       "      <td>0.700</td>\n",
       "      <td>0.00</td>\n",
       "      <td>1.9</td>\n",
       "      <td>0.076</td>\n",
       "      <td>11.0</td>\n",
       "      <td>34.0</td>\n",
       "      <td>0.99780</td>\n",
       "      <td>3.51</td>\n",
       "      <td>0.56</td>\n",
       "      <td>9.4</td>\n",
       "    </tr>\n",
       "    <tr>\n",
       "      <th>1</th>\n",
       "      <td>7.8</td>\n",
       "      <td>0.880</td>\n",
       "      <td>0.00</td>\n",
       "      <td>2.6</td>\n",
       "      <td>0.098</td>\n",
       "      <td>25.0</td>\n",
       "      <td>67.0</td>\n",
       "      <td>0.99680</td>\n",
       "      <td>3.20</td>\n",
       "      <td>0.68</td>\n",
       "      <td>9.8</td>\n",
       "    </tr>\n",
       "    <tr>\n",
       "      <th>2</th>\n",
       "      <td>7.8</td>\n",
       "      <td>0.760</td>\n",
       "      <td>0.04</td>\n",
       "      <td>2.3</td>\n",
       "      <td>0.092</td>\n",
       "      <td>15.0</td>\n",
       "      <td>54.0</td>\n",
       "      <td>0.99700</td>\n",
       "      <td>3.26</td>\n",
       "      <td>0.65</td>\n",
       "      <td>9.8</td>\n",
       "    </tr>\n",
       "    <tr>\n",
       "      <th>3</th>\n",
       "      <td>11.2</td>\n",
       "      <td>0.280</td>\n",
       "      <td>0.56</td>\n",
       "      <td>1.9</td>\n",
       "      <td>0.075</td>\n",
       "      <td>17.0</td>\n",
       "      <td>60.0</td>\n",
       "      <td>0.99800</td>\n",
       "      <td>3.16</td>\n",
       "      <td>0.58</td>\n",
       "      <td>9.8</td>\n",
       "    </tr>\n",
       "    <tr>\n",
       "      <th>4</th>\n",
       "      <td>7.4</td>\n",
       "      <td>0.700</td>\n",
       "      <td>0.00</td>\n",
       "      <td>1.9</td>\n",
       "      <td>0.076</td>\n",
       "      <td>11.0</td>\n",
       "      <td>34.0</td>\n",
       "      <td>0.99780</td>\n",
       "      <td>3.51</td>\n",
       "      <td>0.56</td>\n",
       "      <td>9.4</td>\n",
       "    </tr>\n",
       "    <tr>\n",
       "      <th>...</th>\n",
       "      <td>...</td>\n",
       "      <td>...</td>\n",
       "      <td>...</td>\n",
       "      <td>...</td>\n",
       "      <td>...</td>\n",
       "      <td>...</td>\n",
       "      <td>...</td>\n",
       "      <td>...</td>\n",
       "      <td>...</td>\n",
       "      <td>...</td>\n",
       "      <td>...</td>\n",
       "    </tr>\n",
       "    <tr>\n",
       "      <th>1594</th>\n",
       "      <td>6.2</td>\n",
       "      <td>0.600</td>\n",
       "      <td>0.08</td>\n",
       "      <td>2.0</td>\n",
       "      <td>0.090</td>\n",
       "      <td>32.0</td>\n",
       "      <td>44.0</td>\n",
       "      <td>0.99490</td>\n",
       "      <td>3.45</td>\n",
       "      <td>0.58</td>\n",
       "      <td>10.5</td>\n",
       "    </tr>\n",
       "    <tr>\n",
       "      <th>1595</th>\n",
       "      <td>5.9</td>\n",
       "      <td>0.550</td>\n",
       "      <td>0.10</td>\n",
       "      <td>2.2</td>\n",
       "      <td>0.062</td>\n",
       "      <td>39.0</td>\n",
       "      <td>51.0</td>\n",
       "      <td>0.99512</td>\n",
       "      <td>3.52</td>\n",
       "      <td>0.76</td>\n",
       "      <td>11.2</td>\n",
       "    </tr>\n",
       "    <tr>\n",
       "      <th>1596</th>\n",
       "      <td>6.3</td>\n",
       "      <td>0.510</td>\n",
       "      <td>0.13</td>\n",
       "      <td>2.3</td>\n",
       "      <td>0.076</td>\n",
       "      <td>29.0</td>\n",
       "      <td>40.0</td>\n",
       "      <td>0.99574</td>\n",
       "      <td>3.42</td>\n",
       "      <td>0.75</td>\n",
       "      <td>11.0</td>\n",
       "    </tr>\n",
       "    <tr>\n",
       "      <th>1597</th>\n",
       "      <td>5.9</td>\n",
       "      <td>0.645</td>\n",
       "      <td>0.12</td>\n",
       "      <td>2.0</td>\n",
       "      <td>0.075</td>\n",
       "      <td>32.0</td>\n",
       "      <td>44.0</td>\n",
       "      <td>0.99547</td>\n",
       "      <td>3.57</td>\n",
       "      <td>0.71</td>\n",
       "      <td>10.2</td>\n",
       "    </tr>\n",
       "    <tr>\n",
       "      <th>1598</th>\n",
       "      <td>6.0</td>\n",
       "      <td>0.310</td>\n",
       "      <td>0.47</td>\n",
       "      <td>3.6</td>\n",
       "      <td>0.067</td>\n",
       "      <td>18.0</td>\n",
       "      <td>42.0</td>\n",
       "      <td>0.99549</td>\n",
       "      <td>3.39</td>\n",
       "      <td>0.66</td>\n",
       "      <td>11.0</td>\n",
       "    </tr>\n",
       "  </tbody>\n",
       "</table>\n",
       "<p>1599 rows × 11 columns</p>\n",
       "</div>"
      ],
      "text/plain": [
       "      fixed acidity  volatile acidity  citric acid  residual sugar  chlorides  \\\n",
       "0               7.4             0.700         0.00             1.9      0.076   \n",
       "1               7.8             0.880         0.00             2.6      0.098   \n",
       "2               7.8             0.760         0.04             2.3      0.092   \n",
       "3              11.2             0.280         0.56             1.9      0.075   \n",
       "4               7.4             0.700         0.00             1.9      0.076   \n",
       "...             ...               ...          ...             ...        ...   \n",
       "1594            6.2             0.600         0.08             2.0      0.090   \n",
       "1595            5.9             0.550         0.10             2.2      0.062   \n",
       "1596            6.3             0.510         0.13             2.3      0.076   \n",
       "1597            5.9             0.645         0.12             2.0      0.075   \n",
       "1598            6.0             0.310         0.47             3.6      0.067   \n",
       "\n",
       "      free sulfur dioxide  total sulfur dioxide  density    pH  sulphates  \\\n",
       "0                    11.0                  34.0  0.99780  3.51       0.56   \n",
       "1                    25.0                  67.0  0.99680  3.20       0.68   \n",
       "2                    15.0                  54.0  0.99700  3.26       0.65   \n",
       "3                    17.0                  60.0  0.99800  3.16       0.58   \n",
       "4                    11.0                  34.0  0.99780  3.51       0.56   \n",
       "...                   ...                   ...      ...   ...        ...   \n",
       "1594                 32.0                  44.0  0.99490  3.45       0.58   \n",
       "1595                 39.0                  51.0  0.99512  3.52       0.76   \n",
       "1596                 29.0                  40.0  0.99574  3.42       0.75   \n",
       "1597                 32.0                  44.0  0.99547  3.57       0.71   \n",
       "1598                 18.0                  42.0  0.99549  3.39       0.66   \n",
       "\n",
       "      alcohol  \n",
       "0         9.4  \n",
       "1         9.8  \n",
       "2         9.8  \n",
       "3         9.8  \n",
       "4         9.4  \n",
       "...       ...  \n",
       "1594     10.5  \n",
       "1595     11.2  \n",
       "1596     11.0  \n",
       "1597     10.2  \n",
       "1598     11.0  \n",
       "\n",
       "[1599 rows x 11 columns]"
      ]
     },
     "execution_count": 5,
     "metadata": {},
     "output_type": "execute_result"
    }
   ],
   "source": [
    "X = df.iloc[:,:-1]\n",
    "Y = df.iloc[:,-1].map(lambda x: x - 3)\n",
    "X"
   ]
  },
  {
   "cell_type": "code",
   "execution_count": 6,
   "id": "db45803f-8899-4d76-a756-f16c998a9da8",
   "metadata": {},
   "outputs": [
    {
     "data": {
      "text/plain": [
       "0       2\n",
       "1       2\n",
       "2       2\n",
       "3       3\n",
       "4       2\n",
       "       ..\n",
       "1594    2\n",
       "1595    3\n",
       "1596    3\n",
       "1597    2\n",
       "1598    3\n",
       "Name: quality, Length: 1599, dtype: int64"
      ]
     },
     "execution_count": 6,
     "metadata": {},
     "output_type": "execute_result"
    }
   ],
   "source": [
    "Y"
   ]
  },
  {
   "cell_type": "code",
   "execution_count": 7,
   "id": "severe-literacy",
   "metadata": {},
   "outputs": [
    {
     "data": {
      "text/plain": [
       "(1119, 11)"
      ]
     },
     "execution_count": 7,
     "metadata": {},
     "output_type": "execute_result"
    }
   ],
   "source": [
    "from sklearn.model_selection import train_test_split\n",
    "\n",
    "train_x, others_x, train_y, others_y = train_test_split(X, Y, test_size=0.3, random_state=42)\n",
    "valid_x, test_x, valid_y, test_y = train_test_split(others_x, others_y, test_size=0.5, random_state=42)\n",
    "train_x.shape"
   ]
  },
  {
   "cell_type": "code",
   "execution_count": 8,
   "id": "d52d04ae-7464-4e78-83ac-72fad4ca911c",
   "metadata": {},
   "outputs": [
    {
     "data": {
      "text/plain": [
       "(240, 11)"
      ]
     },
     "execution_count": 8,
     "metadata": {},
     "output_type": "execute_result"
    }
   ],
   "source": [
    "valid_x.shape"
   ]
  },
  {
   "cell_type": "code",
   "execution_count": 9,
   "id": "95c8ba44-e579-419d-9c23-abcbca198845",
   "metadata": {},
   "outputs": [
    {
     "data": {
      "text/plain": [
       "(240, 11)"
      ]
     },
     "execution_count": 9,
     "metadata": {},
     "output_type": "execute_result"
    }
   ],
   "source": [
    "test_x.shape"
   ]
  },
  {
   "cell_type": "code",
   "execution_count": 10,
   "id": "0bfb652f-7477-4d4b-9c40-83536ba27252",
   "metadata": {},
   "outputs": [
    {
     "data": {
      "text/plain": [
       "(1119,)"
      ]
     },
     "execution_count": 10,
     "metadata": {},
     "output_type": "execute_result"
    }
   ],
   "source": [
    "train_y.shape"
   ]
  },
  {
   "cell_type": "code",
   "execution_count": 11,
   "id": "739737f7-484b-4bf2-839e-721e3b7206ff",
   "metadata": {},
   "outputs": [
    {
     "data": {
      "text/plain": [
       "tensor([[ 8.6000,  0.2200,  0.3600,  ...,  3.4700,  0.8700, 11.0000],\n",
       "        [12.5000,  0.4600,  0.6300,  ...,  2.9900,  0.8700, 10.2000],\n",
       "        [ 7.2000,  0.5400,  0.2700,  ...,  3.3900,  0.7100, 11.0000],\n",
       "        ...,\n",
       "        [ 7.2000,  0.6200,  0.0600,  ...,  3.5100,  0.5400,  9.5000],\n",
       "        [ 7.9000,  0.2000,  0.3500,  ...,  3.3200,  0.8000, 11.9000],\n",
       "        [ 5.8000,  0.2900,  0.2600,  ...,  3.3900,  0.5400, 13.5000]],\n",
       "       dtype=torch.float64)"
      ]
     },
     "execution_count": 11,
     "metadata": {},
     "output_type": "execute_result"
    }
   ],
   "source": [
    "import torch\n",
    "\n",
    "train_x = torch.tensor(train_x.to_numpy())\n",
    "train_x"
   ]
  },
  {
   "cell_type": "code",
   "execution_count": 12,
   "id": "17aea793-87ba-4a3d-8afe-6f8e8423d1b9",
   "metadata": {},
   "outputs": [
    {
     "data": {
      "text/plain": [
       "tensor([[ 8.6000,  0.2200,  0.3600,  ...,  3.4700,  0.8700, 11.0000],\n",
       "        [12.5000,  0.4600,  0.6300,  ...,  2.9900,  0.8700, 10.2000],\n",
       "        [ 7.2000,  0.5400,  0.2700,  ...,  3.3900,  0.7100, 11.0000],\n",
       "        ...,\n",
       "        [ 7.2000,  0.6200,  0.0600,  ...,  3.5100,  0.5400,  9.5000],\n",
       "        [ 7.9000,  0.2000,  0.3500,  ...,  3.3200,  0.8000, 11.9000],\n",
       "        [ 5.8000,  0.2900,  0.2600,  ...,  3.3900,  0.5400, 13.5000]])"
      ]
     },
     "execution_count": 12,
     "metadata": {},
     "output_type": "execute_result"
    }
   ],
   "source": [
    "train_x = train_x.float()\n",
    "train_x"
   ]
  },
  {
   "cell_type": "code",
   "execution_count": 13,
   "id": "a34507d1-0b9d-41cb-9f55-1303845d5c0c",
   "metadata": {},
   "outputs": [
    {
     "data": {
      "text/plain": [
       "torch.Size([240, 11])"
      ]
     },
     "execution_count": 13,
     "metadata": {},
     "output_type": "execute_result"
    }
   ],
   "source": [
    "test_x, valid_x = map(torch.tensor, (test_x.to_numpy(), valid_x.to_numpy()))\n",
    "test_x = test_x.float()\n",
    "valid_x = valid_x.float()\n",
    "valid_x.shape"
   ]
  },
  {
   "cell_type": "code",
   "execution_count": 14,
   "id": "deadcf59-e1ef-48fe-bf59-3732dd625649",
   "metadata": {},
   "outputs": [
    {
     "data": {
      "text/plain": [
       "tensor([4, 2, 2,  ..., 2, 4, 3])"
      ]
     },
     "execution_count": 14,
     "metadata": {},
     "output_type": "execute_result"
    }
   ],
   "source": [
    "train_y, test_y, valid_y = map(torch.tensor, (train_y.to_numpy(), test_y.to_numpy(), valid_y.to_numpy()))\n",
    "train_y"
   ]
  },
  {
   "cell_type": "code",
   "execution_count": 15,
   "id": "c3958684-ef8d-48cd-972b-c432fc461cef",
   "metadata": {},
   "outputs": [],
   "source": [
    "from torch.utils.data import Dataset\n",
    "\n",
    "class WineQualityDataset(Dataset):\n",
    "    def __init__(self, x, y):\n",
    "        self.x = x\n",
    "        self.y = y\n",
    "        \n",
    "    def __getitem__(self, index):\n",
    "        return self.x[index], self.y[index]\n",
    "    \n",
    "    def __len__(self):\n",
    "        return len(self.x)"
   ]
  },
  {
   "cell_type": "code",
   "execution_count": 16,
   "id": "f6c45f72-e048-4af3-8599-82b5d59f12f3",
   "metadata": {},
   "outputs": [],
   "source": [
    "wine_train = WineQualityDataset(train_x, train_y)"
   ]
  },
  {
   "cell_type": "code",
   "execution_count": 17,
   "id": "0d006345-376e-4849-8dae-2e2e06339c6d",
   "metadata": {},
   "outputs": [],
   "source": [
    "from torch.utils.data import DataLoader\n",
    "\n",
    "train_loader = DataLoader(dataset=wine_train, batch_size=8)"
   ]
  },
  {
   "cell_type": "code",
   "execution_count": 18,
   "id": "e83b7d5b-5d29-45f2-a84a-670c07194e78",
   "metadata": {},
   "outputs": [],
   "source": [
    "class WineMLP(torch.nn.Module):\n",
    "    def __init__(self, n_inputs, hidden_size, n_outputs):\n",
    "        super(WineMLP, self).__init__()\n",
    "        self.inputs = n_inputs\n",
    "        self.hidden = hidden_size\n",
    "        self.outputs = n_outputs\n",
    "        \n",
    "        self.linear1 = torch.nn.Linear(self.inputs, self.hidden)\n",
    "        self.linear2 = torch.nn.Linear(self.hidden, self.outputs)\n",
    "        \n",
    "        self.relu = torch.nn.ReLU()\n",
    "        \n",
    "    def forward(self, X):\n",
    "        out = self.linear1(X)\n",
    "        out = self.relu(out)\n",
    "        out = self.linear2(out)\n",
    "        return out"
   ]
  },
  {
   "cell_type": "code",
   "execution_count": 19,
   "id": "02c1ce96-c02c-4711-9c77-827cb1651ef8",
   "metadata": {},
   "outputs": [
    {
     "data": {
      "text/plain": [
       "WineMLP(\n",
       "  (linear1): Linear(in_features=11, out_features=5, bias=True)\n",
       "  (linear2): Linear(in_features=5, out_features=6, bias=True)\n",
       "  (relu): ReLU()\n",
       ")"
      ]
     },
     "execution_count": 19,
     "metadata": {},
     "output_type": "execute_result"
    }
   ],
   "source": [
    "model = WineMLP(n_inputs=train_x.shape[1], hidden_size=5, n_outputs=6)\n",
    "model"
   ]
  },
  {
   "cell_type": "code",
   "execution_count": 20,
   "id": "604a7b09-2bde-4f50-b2fb-fea1a2689e29",
   "metadata": {},
   "outputs": [],
   "source": [
    "criterion = torch.nn.CrossEntropyLoss()\n",
    "optimiser = torch.optim.SGD(params=model.parameters(), lr=0.0001, momentum=0.7)"
   ]
  },
  {
   "cell_type": "code",
   "execution_count": 21,
   "id": "44a02989-d1d6-4802-a4a1-c667729434bd",
   "metadata": {},
   "outputs": [],
   "source": [
    "epochs = 100\n",
    "\n",
    "loss_valid = []\n",
    "loss_train = []\n",
    "accuracy = []\n",
    "\n",
    "for epoch in range(epochs):\n",
    "    model.train()\n",
    "    # Batch the data\n",
    "    epoch_loss_train = []\n",
    "    for features, targets in train_loader:\n",
    "        output = model.forward(features) # Get model hypotheses\n",
    "        # Calculate a loss\n",
    "        loss = criterion(output, targets)\n",
    "        epoch_loss_train.append(loss.item())\n",
    "        optimiser.zero_grad() # remove any previous losses\n",
    "        loss.backward() # Calculate the current losses backward through the MLP\n",
    "        optimiser.step() # Apply to the model itself\n",
    "    # Calculate the training loss per epoch\n",
    "    loss_train.append(sum(epoch_loss_train) / len(epoch_loss_train))\n",
    "    \n",
    "    # Per epoch, get validation performance\n",
    "    model.eval() # Puts the model in evaluation mode\n",
    "    valid_hyp = model.forward(valid_x)\n",
    "    loss_valid.append(criterion(valid_hyp, valid_y).item())\n",
    "    c = torch.argmax(valid_hyp.data, dim=1)\n",
    "    valid_accuracy = (c == valid_y).sum().item() / valid_x.shape[0]\n",
    "    accuracy.append(valid_accuracy)"
   ]
  },
  {
   "cell_type": "code",
   "execution_count": 22,
   "id": "750b7518-fa95-41de-b858-78dd33023614",
   "metadata": {},
   "outputs": [
    {
     "data": {
      "image/png": "[encoded data removed]",
      "text/plain": [
       "<Figure size 640x480 with 1 Axes>"
      ]
     },
     "metadata": {},
     "output_type": "display_data"
    }
   ],
   "source": [
    "import matplotlib.pyplot as plt\n",
    "import numpy as np\n",
    "\n",
    "def plot_loss_curves(epochs, loss_train, loss_valid):\n",
    "    plt.plot(epochs, loss_train, label='Train Loss')\n",
    "    plt.plot(epochs, loss_valid, label='Validation Loss')\n",
    "    plt.xlabel('Epochs')\n",
    "    plt.ylabel('Cross Entropy Loss')\n",
    "    plt.legend()\n",
    "    plt.show()\n",
    "\n",
    "\n",
    "plot_loss_curves(np.linspace(1, epochs, epochs).astype(int), loss_train, loss_valid)"
   ]
  },
  {
   "cell_type": "code",
   "execution_count": 23,
   "id": "cbc793b4-58a5-4dcd-8640-66bc082ba73f",
   "metadata": {},
   "outputs": [
    {
     "data": {
      "image/png": "[encoded data removed]",
      "text/plain": [
       "<Figure size 640x480 with 1 Axes>"
      ]
     },
     "metadata": {},
     "output_type": "display_data"
    }
   ],
   "source": [
    "def plot_accuracy_curves(epochs, accuracy):\n",
    "    plt.plot(epochs, accuracy, label='Accuracy')\n",
    "    plt.xlabel('Epochs')\n",
    "    plt.ylabel('Accuracy')\n",
    "    plt.legend()\n",
    "    plt.show()\n",
    "plot_accuracy_curves(np.linspace(1, epochs, epochs).astype(int),accuracy)"
   ]
  },
  {
   "cell_type": "markdown",
   "id": "c9c4d696-784e-4d8a-8348-f0bae3a13267",
   "metadata": {},
   "source": [
    "# Testing"
   ]
  },
  {
   "cell_type": "code",
   "execution_count": 24,
   "id": "20fccbf7-5cc7-43d4-b4d6-46332801ccb2",
   "metadata": {},
   "outputs": [
    {
     "name": "stdout",
     "output_type": "stream",
     "text": [
      "testing accuracy: 0.4166666666666667\n"
     ]
    }
   ],
   "source": [
    "model.eval() # Puts the model in evaluation mode\n",
    "test_hyp = model.forward(test_x)\n",
    "c = torch.argmax(test_hyp.data, dim=1)\n",
    "test_accuracy = (c == test_y).sum().item() / test_x.shape[0]\n",
    "print('testing accuracy:', test_accuracy)"
   ]
  },
  {
   "cell_type": "markdown",
   "id": "d66e4be3-7f85-413d-82fb-bd5cdd78d8a8",
   "metadata": {},
   "source": [
    "## Testing report\n",
    "The testing has a higher accuracy than the ones in the validation, which I think is a good sign of not being overfitting to the either the training set or the validation set. However, in general, it's still pretty low"
   ]
  },
  {
   "cell_type": "markdown",
   "id": "threatened-simple",
   "metadata": {},
   "source": [
    "# Making changes to basic MLP"
   ]
  },
  {
   "cell_type": "markdown",
   "id": "3719b70b-3099-49c6-8ffc-76b4e444b06e",
   "metadata": {},
   "source": [
    "## Normalize the data\n",
    "Every feature has different scaling so they might behave badly if the individual features do not more or less look like standard normally distributed data"
   ]
  },
  {
   "cell_type": "code",
   "execution_count": 28,
   "id": "31853c16-3452-449c-a24a-6afad78b0ef2",
   "metadata": {},
   "outputs": [
    {
     "data": {
      "text/plain": [
       "array([[-0.52835961,  0.96187667, -1.39147228, ...,  1.28864292,\n",
       "        -0.57920652, -0.96024611],\n",
       "       [-0.29854743,  1.96744245, -1.39147228, ..., -0.7199333 ,\n",
       "         0.1289504 , -0.58477711],\n",
       "       [-0.29854743,  1.29706527, -1.18607043, ..., -0.33117661,\n",
       "        -0.04808883, -0.58477711],\n",
       "       ...,\n",
       "       [-1.1603431 , -0.09955388, -0.72391627, ...,  0.70550789,\n",
       "         0.54204194,  0.54162988],\n",
       "       [-1.39015528,  0.65462046, -0.77526673, ...,  1.6773996 ,\n",
       "         0.30598963, -0.20930812],\n",
       "       [-1.33270223, -1.21684919,  1.02199944, ...,  0.51112954,\n",
       "         0.01092425,  0.54162988]])"
      ]
     },
     "execution_count": 28,
     "metadata": {},
     "output_type": "execute_result"
    }
   ],
   "source": [
    "from sklearn.preprocessing import StandardScaler\n",
    "\n",
    "scaler = StandardScaler()\n",
    "scaler.fit(X)\n",
    "X = scaler.transform(X)\n",
    "X"
   ]
  },
  {
   "cell_type": "code",
   "execution_count": 29,
   "id": "1e611577-53f2-4f70-8e59-6db317954dce",
   "metadata": {},
   "outputs": [
    {
     "data": {
      "text/plain": [
       "(1119, 11)"
      ]
     },
     "execution_count": 29,
     "metadata": {},
     "output_type": "execute_result"
    }
   ],
   "source": [
    "train_x, others_x, train_y, others_y = train_test_split(X, Y, test_size=0.3, random_state=42)\n",
    "valid_x, test_x, valid_y, test_y = train_test_split(others_x, others_y, test_size=0.5, random_state=42)\n",
    "train_x.shape"
   ]
  },
  {
   "cell_type": "code",
   "execution_count": 30,
   "id": "91b6f1b4-a075-483b-b292-713d85e7d2b6",
   "metadata": {},
   "outputs": [
    {
     "data": {
      "text/plain": [
       "(240, 11)"
      ]
     },
     "execution_count": 30,
     "metadata": {},
     "output_type": "execute_result"
    }
   ],
   "source": [
    "valid_x.shape"
   ]
  },
  {
   "cell_type": "code",
   "execution_count": 31,
   "id": "d89585e0-3183-4e1e-954e-58fae6403d2c",
   "metadata": {},
   "outputs": [
    {
     "data": {
      "text/plain": [
       "(240, 11)"
      ]
     },
     "execution_count": 31,
     "metadata": {},
     "output_type": "execute_result"
    }
   ],
   "source": [
    "test_x.shape"
   ]
  },
  {
   "cell_type": "code",
   "execution_count": 32,
   "id": "23ec5958-4678-4af7-a8ba-4f667f95495c",
   "metadata": {},
   "outputs": [
    {
     "data": {
      "text/plain": [
       "(1119,)"
      ]
     },
     "execution_count": 32,
     "metadata": {},
     "output_type": "execute_result"
    }
   ],
   "source": [
    "train_y.shape"
   ]
  },
  {
   "cell_type": "code",
   "execution_count": 33,
   "id": "8a61251f-601e-4461-9c56-11185a084a34",
   "metadata": {},
   "outputs": [
    {
     "data": {
      "text/plain": [
       "(240,)"
      ]
     },
     "execution_count": 33,
     "metadata": {},
     "output_type": "execute_result"
    }
   ],
   "source": [
    "valid_y.shape"
   ]
  },
  {
   "cell_type": "code",
   "execution_count": 34,
   "id": "4e1fc48a-7ccd-462d-9533-2e7eed2eb2e5",
   "metadata": {},
   "outputs": [
    {
     "data": {
      "text/plain": [
       "(240, 11)"
      ]
     },
     "execution_count": 34,
     "metadata": {},
     "output_type": "execute_result"
    }
   ],
   "source": [
    "test_x.shape"
   ]
  },
  {
   "cell_type": "code",
   "execution_count": 36,
   "id": "f2e91590-44b0-49fa-b855-d8a77f69b1ba",
   "metadata": {},
   "outputs": [
    {
     "data": {
      "text/plain": [
       "tensor([[ 0.1611, -1.7196,  0.4571,  ...,  1.0295,  1.2502,  0.5416],\n",
       "        [ 2.4017, -0.3789,  1.8436,  ..., -2.0806,  1.2502, -0.2093],\n",
       "        [-0.6433,  0.0680, -0.0050,  ...,  0.5111,  0.3060,  0.5416],\n",
       "        ...,\n",
       "        [-0.6433,  0.5150, -1.0834,  ...,  1.2886, -0.6972, -0.8664],\n",
       "        [-0.2411, -1.8314,  0.4058,  ...,  0.0576,  0.8371,  1.3864],\n",
       "        [-1.4476, -1.3286, -0.0564,  ...,  0.5111, -0.6972,  2.8883]])"
      ]
     },
     "execution_count": 36,
     "metadata": {},
     "output_type": "execute_result"
    }
   ],
   "source": [
    "train_x, test_x, valid_x = map(torch.tensor, (train_x, test_x, valid_x))\n",
    "train_x = train_x.float()\n",
    "test_x = test_x.float()\n",
    "valid_x = valid_x.float()\n",
    "train_x"
   ]
  },
  {
   "cell_type": "code",
   "execution_count": 45,
   "id": "2d9ba7ec-eac5-406c-b340-c1afb57369d9",
   "metadata": {},
   "outputs": [
    {
     "data": {
      "text/plain": [
       "tensor([4, 2, 2,  ..., 2, 4, 3])"
      ]
     },
     "execution_count": 45,
     "metadata": {},
     "output_type": "execute_result"
    }
   ],
   "source": [
    "train_y, test_y, valid_y = map(torch.tensor, (train_y.to_numpy(), test_y.to_numpy(), valid_y.to_numpy()))\n",
    "train_y"
   ]
  },
  {
   "cell_type": "code",
   "execution_count": 46,
   "id": "2f3bc036-8289-42a2-ab46-f8fe3c650f04",
   "metadata": {},
   "outputs": [],
   "source": [
    "wine_train = WineQualityDataset(train_x, train_y)"
   ]
  },
  {
   "cell_type": "code",
   "execution_count": 47,
   "id": "38b08209-16b1-4512-ac78-53a1cd1aabb3",
   "metadata": {},
   "outputs": [],
   "source": [
    "train_loader = DataLoader(dataset=wine_train, batch_size=8)"
   ]
  },
  {
   "cell_type": "code",
   "execution_count": 48,
   "id": "1703e0a8-85fc-4857-b4c1-293a2ce250d7",
   "metadata": {},
   "outputs": [
    {
     "data": {
      "text/plain": [
       "WineMLP(\n",
       "  (linear1): Linear(in_features=11, out_features=5, bias=True)\n",
       "  (linear2): Linear(in_features=5, out_features=6, bias=True)\n",
       "  (relu): ReLU()\n",
       ")"
      ]
     },
     "execution_count": 48,
     "metadata": {},
     "output_type": "execute_result"
    }
   ],
   "source": [
    "model_v1 = WineMLP(n_inputs=train_x.shape[1], hidden_size=5, n_outputs=6)\n",
    "model_v1"
   ]
  },
  {
   "cell_type": "code",
   "execution_count": 49,
   "id": "012ee2b9-a8d8-4f94-b843-e2ff27498fa4",
   "metadata": {},
   "outputs": [],
   "source": [
    "criterion = torch.nn.CrossEntropyLoss()\n",
    "optimiser = torch.optim.SGD(params=model_v1.parameters(), lr=0.0001, momentum=0.7)"
   ]
  },
  {
   "cell_type": "code",
   "execution_count": 50,
   "id": "7eb056ec-1de6-4dbb-a7e7-8e8714954512",
   "metadata": {},
   "outputs": [],
   "source": [
    "epochs = 100\n",
    "\n",
    "loss_valid = []\n",
    "loss_train = []\n",
    "accuracy = []\n",
    "\n",
    "for epoch in range(epochs):\n",
    "    model_v1.train()\n",
    "    # Batch the data\n",
    "    epoch_loss_train = []\n",
    "    for features, targets in train_loader:\n",
    "        output = model_v1.forward(features) # Get model hypotheses\n",
    "        # Calculate a loss\n",
    "        loss = criterion(output, targets)\n",
    "        epoch_loss_train.append(loss.item())\n",
    "        optimiser.zero_grad() # remove any previous losses\n",
    "        loss.backward() # Calculate the current losses backward through the MLP\n",
    "        optimiser.step() # Apply to the model itself\n",
    "    # Calculate the training loss per epoch\n",
    "    loss_train.append(sum(epoch_loss_train) / len(epoch_loss_train))\n",
    "    \n",
    "    # Per epoch, get validation performance\n",
    "    model_v1.eval() # Puts the model in evaluation mode\n",
    "    valid_hyp = model_v1.forward(valid_x)\n",
    "    loss_valid.append(criterion(valid_hyp, valid_y).item())\n",
    "    c = torch.argmax(valid_hyp.data, dim=1)\n",
    "    valid_accuracy = (c == valid_y).sum().item() / valid_x.shape[0]\n",
    "    accuracy.append(valid_accuracy)"
   ]
  },
  {
   "cell_type": "code",
   "execution_count": 51,
   "id": "b5fbcc97-91ac-4838-9fc5-ef2b175f9bce",
   "metadata": {},
   "outputs": [
    {
     "data": {
      "image/png": "[encoded data removed]",
      "text/plain": [
       "<Figure size 640x480 with 1 Axes>"
      ]
     },
     "metadata": {},
     "output_type": "display_data"
    }
   ],
   "source": [
    "plot_loss_curves(np.linspace(1, epochs, epochs).astype(int), loss_train, loss_valid)"
   ]
  },
  {
   "cell_type": "code",
   "execution_count": 52,
   "id": "ea44f57c-609f-4104-9466-7677b81f7c79",
   "metadata": {},
   "outputs": [
    {
     "data": {
      "image/png": "[encoded data removed]",
      "text/plain": [
       "<Figure size 640x480 with 1 Axes>"
      ]
     },
     "metadata": {},
     "output_type": "display_data"
    }
   ],
   "source": [
    "plot_accuracy_curves(np.linspace(1, epochs, epochs).astype(int),accuracy)"
   ]
  },
  {
   "cell_type": "markdown",
   "id": "f74506eb-2eba-4353-a294-e8b8f04b60a6",
   "metadata": {},
   "source": [
    "### Testing"
   ]
  },
  {
   "cell_type": "code",
   "execution_count": 54,
   "id": "9aad6565-52da-4957-b2c9-fd3f0f1c1fb5",
   "metadata": {},
   "outputs": [
    {
     "name": "stdout",
     "output_type": "stream",
     "text": [
      "testing accuracy: 0.5333333333333333\n"
     ]
    }
   ],
   "source": [
    "model_v1.eval() # Puts the model in evaluation mode\n",
    "test_hyp = model_v1.forward(test_x)\n",
    "c = torch.argmax(test_hyp.data, dim=1)\n",
    "test_accuracy = (c == test_y).sum().item() / test_x.shape[0]\n",
    "print('testing accuracy:', test_accuracy)"
   ]
  },
  {
   "cell_type": "markdown",
   "id": "8c2b9fc7-cd03-411f-a2d2-00d6a0b1e933",
   "metadata": {},
   "source": [
    "### Improvement report\n",
    "Normalizing the data improves the model's performance by 12% (41% -> 53%)\n",
    "However, the model is overfitting the train set a little bit. I will try reduce the number of unit in the hidden layer"
   ]
  },
  {
   "cell_type": "markdown",
   "id": "4800a99a-5fda-423d-9f70-93c3ab100c28",
   "metadata": {},
   "source": [
    "## Decrease the number of unit in the hidden layer\n",
    "I am going to decrease the number of unit in the hidden layer by 2 to reduce overfitting"
   ]
  },
  {
   "cell_type": "code",
   "execution_count": 55,
   "id": "59c6dcd5-da6c-4e66-9c51-fa6539f25759",
   "metadata": {},
   "outputs": [
    {
     "data": {
      "text/plain": [
       "WineMLP(\n",
       "  (linear1): Linear(in_features=11, out_features=3, bias=True)\n",
       "  (linear2): Linear(in_features=3, out_features=6, bias=True)\n",
       "  (relu): ReLU()\n",
       ")"
      ]
     },
     "execution_count": 55,
     "metadata": {},
     "output_type": "execute_result"
    }
   ],
   "source": [
    "model_v2 = WineMLP(n_inputs=train_x.shape[1], hidden_size=3, n_outputs=6)\n",
    "model_v2"
   ]
  },
  {
   "cell_type": "code",
   "execution_count": 56,
   "id": "7eefd181-f448-4aea-ba8a-4fcc3ab597d6",
   "metadata": {},
   "outputs": [],
   "source": [
    "criterion = torch.nn.CrossEntropyLoss()\n",
    "optimiser = torch.optim.SGD(params=model_v2.parameters(), lr=0.0001, momentum=0.7)"
   ]
  },
  {
   "cell_type": "code",
   "execution_count": 57,
   "id": "60379170-9570-47e0-b879-e16cd58e22b4",
   "metadata": {},
   "outputs": [],
   "source": [
    "epochs = 100\n",
    "\n",
    "loss_valid = []\n",
    "loss_train = []\n",
    "accuracy = []\n",
    "\n",
    "for epoch in range(epochs):\n",
    "    model_v2.train()\n",
    "    # Batch the data\n",
    "    epoch_loss_train = []\n",
    "    for features, targets in train_loader:\n",
    "        output = model_v2.forward(features) # Get model hypotheses\n",
    "        # Calculate a loss\n",
    "        loss = criterion(output, targets)\n",
    "        epoch_loss_train.append(loss.item())\n",
    "        optimiser.zero_grad() # remove any previous losses\n",
    "        loss.backward() # Calculate the current losses backward through the MLP\n",
    "        optimiser.step() # Apply to the model itself\n",
    "    # Calculate the training loss per epoch\n",
    "    loss_train.append(sum(epoch_loss_train) / len(epoch_loss_train))\n",
    "    \n",
    "    # Per epoch, get validation performance\n",
    "    model_v2.eval() # Puts the model in evaluation mode\n",
    "    valid_hyp = model_v2.forward(valid_x)\n",
    "    loss_valid.append(criterion(valid_hyp, valid_y).item())\n",
    "    c = torch.argmax(valid_hyp.data, dim=1)\n",
    "    valid_accuracy = (c == valid_y).sum().item() / valid_x.shape[0]\n",
    "    accuracy.append(valid_accuracy)"
   ]
  },
  {
   "cell_type": "code",
   "execution_count": 58,
   "id": "1eec539e-32ba-43e3-8b77-e78861c2f313",
   "metadata": {},
   "outputs": [
    {
     "data": {
      "image/png": "[encoded data removed]",
      "text/plain": [
       "<Figure size 640x480 with 1 Axes>"
      ]
     },
     "metadata": {},
     "output_type": "display_data"
    }
   ],
   "source": [
    "plot_loss_curves(np.linspace(1, epochs, epochs).astype(int), loss_train, loss_valid)"
   ]
  },
  {
   "cell_type": "code",
   "execution_count": 59,
   "id": "a3140971-9211-4bd4-bf2a-b40731cd38e0",
   "metadata": {},
   "outputs": [
    {
     "data": {
      "image/png": "[encoded data removed]",
      "text/plain": [
       "<Figure size 640x480 with 1 Axes>"
      ]
     },
     "metadata": {},
     "output_type": "display_data"
    }
   ],
   "source": [
    "plot_accuracy_curves(np.linspace(1, epochs, epochs).astype(int),accuracy)"
   ]
  },
  {
   "cell_type": "markdown",
   "id": "1bf7c27a-c51a-4c7c-8ac6-963a7e72b059",
   "metadata": {},
   "source": [
    "### Testing"
   ]
  },
  {
   "cell_type": "code",
   "execution_count": 60,
   "id": "1a8d6728-9de7-4213-b3b9-755c43acff3d",
   "metadata": {},
   "outputs": [
    {
     "name": "stdout",
     "output_type": "stream",
     "text": [
      "testing accuracy: 0.5291666666666667\n"
     ]
    }
   ],
   "source": [
    "model_v2.eval() # Puts the model in evaluation mode\n",
    "test_hyp = model_v2.forward(test_x)\n",
    "c = torch.argmax(test_hyp.data, dim=1)\n",
    "test_accuracy = (c == test_y).sum().item() / test_x.shape[0]\n",
    "print('testing accuracy:', test_accuracy)"
   ]
  },
  {
   "cell_type": "markdown",
   "id": "c07a88a8-3e52-486e-b9bd-2d507a4c257a",
   "metadata": {},
   "source": [
    "### Improvement report\n",
    "The overfitting is slightly better. Also the performance is getting slightly better. But it is still slightly overfitting according to the loss figure. Therefore, I am going to keep decreasing the number of unit in the hidden layer"
   ]
  },
  {
   "cell_type": "markdown",
   "id": "9d13564f-97d6-4ce3-ba16-9165f8a2c64f",
   "metadata": {},
   "source": [
    "## Keep dereasing the number of unit in the hidden layer\n",
    "This time, I will decrease the number by 1 since the overfitting is almost gone"
   ]
  },
  {
   "cell_type": "code",
   "execution_count": 61,
   "id": "994a5665-4eca-4dce-820c-8da2bfeb78ad",
   "metadata": {},
   "outputs": [
    {
     "data": {
      "text/plain": [
       "WineMLP(\n",
       "  (linear1): Linear(in_features=11, out_features=2, bias=True)\n",
       "  (linear2): Linear(in_features=2, out_features=6, bias=True)\n",
       "  (relu): ReLU()\n",
       ")"
      ]
     },
     "execution_count": 61,
     "metadata": {},
     "output_type": "execute_result"
    }
   ],
   "source": [
    "model_v3 = WineMLP(n_inputs=train_x.shape[1], hidden_size=2, n_outputs=6)\n",
    "model_v3"
   ]
  },
  {
   "cell_type": "code",
   "execution_count": 62,
   "id": "dcc244dc-9c6c-46e5-a4e0-c4e10abd17b3",
   "metadata": {},
   "outputs": [],
   "source": [
    "criterion = torch.nn.CrossEntropyLoss()\n",
    "optimiser = torch.optim.SGD(params=model_v3.parameters(), lr=0.0001, momentum=0.7)"
   ]
  },
  {
   "cell_type": "code",
   "execution_count": 63,
   "id": "13d95219-4e42-4d02-ac6f-a38fac547555",
   "metadata": {},
   "outputs": [],
   "source": [
    "epochs = 100\n",
    "\n",
    "loss_valid = []\n",
    "loss_train = []\n",
    "accuracy = []\n",
    "\n",
    "for epoch in range(epochs):\n",
    "    model_v3.train()\n",
    "    # Batch the data\n",
    "    epoch_loss_train = []\n",
    "    for features, targets in train_loader:\n",
    "        output = model_v3.forward(features) # Get model hypotheses\n",
    "        # Calculate a loss\n",
    "        loss = criterion(output, targets)\n",
    "        epoch_loss_train.append(loss.item())\n",
    "        optimiser.zero_grad() # remove any previous losses\n",
    "        loss.backward() # Calculate the current losses backward through the MLP\n",
    "        optimiser.step() # Apply to the model itself\n",
    "    # Calculate the training loss per epoch\n",
    "    loss_train.append(sum(epoch_loss_train) / len(epoch_loss_train))\n",
    "    \n",
    "    # Per epoch, get validation performance\n",
    "    model_v3.eval() # Puts the model in evaluation mode\n",
    "    valid_hyp = model_v3.forward(valid_x)\n",
    "    loss_valid.append(criterion(valid_hyp, valid_y).item())\n",
    "    c = torch.argmax(valid_hyp.data, dim=1)\n",
    "    valid_accuracy = (c == valid_y).sum().item() / valid_x.shape[0]\n",
    "    accuracy.append(valid_accuracy)"
   ]
  },
  {
   "cell_type": "code",
   "execution_count": 64,
   "id": "48c8f4bb-c5f1-4cbb-85d4-bd2af2b97e4a",
   "metadata": {},
   "outputs": [
    {
     "data": {
      "image/png": "[encoded data removed]",
      "text/plain": [
       "<Figure size 640x480 with 1 Axes>"
      ]
     },
     "metadata": {},
     "output_type": "display_data"
    }
   ],
   "source": [
    "plot_loss_curves(np.linspace(1, epochs, epochs).astype(int), loss_train, loss_valid)"
   ]
  },
  {
   "cell_type": "code",
   "execution_count": 65,
   "id": "6b4cbf34-8223-450c-a611-06c6e60335a5",
   "metadata": {},
   "outputs": [
    {
     "data": {
      "image/png": "[encoded data removed]",
      "text/plain": [
       "<Figure size 640x480 with 1 Axes>"
      ]
     },
     "metadata": {},
     "output_type": "display_data"
    }
   ],
   "source": [
    "plot_accuracy_curves(np.linspace(1, epochs, epochs).astype(int),accuracy)"
   ]
  },
  {
   "cell_type": "markdown",
   "id": "e4edb048-dfc2-4302-ac4b-09dd6d4270a1",
   "metadata": {},
   "source": [
    "### Testing"
   ]
  },
  {
   "cell_type": "code",
   "execution_count": 66,
   "id": "d020199f-30c9-465f-a428-559ea01b8d3a",
   "metadata": {},
   "outputs": [
    {
     "name": "stdout",
     "output_type": "stream",
     "text": [
      "testing accuracy: 0.375\n"
     ]
    }
   ],
   "source": [
    "model_v3.eval() # Puts the model in evaluation mode\n",
    "test_hyp = model_v3.forward(test_x)\n",
    "c = torch.argmax(test_hyp.data, dim=1)\n",
    "test_accuracy = (c == test_y).sum().item() / test_x.shape[0]\n",
    "print('testing accuracy:', test_accuracy)"
   ]
  },
  {
   "cell_type": "markdown",
   "id": "a6cf55aa-dcaf-4953-90d4-df3548e86fbb",
   "metadata": {},
   "source": [
    "### Improvement report\n",
    "The overfitting and the performance become worse. I think that is because the number of unit in the hidden layer is not enough. In conclusion, 3 units in the hidden layer is the optimal configuration in this case for now."
   ]
  },
  {
   "cell_type": "markdown",
   "id": "standard-territory",
   "metadata": {},
   "source": [
    "# Optional: Implementing the MLP"
   ]
  },
  {
   "cell_type": "code",
   "execution_count": 43,
   "id": "secret-constitution",
   "metadata": {},
   "outputs": [],
   "source": [
    "# Add steps"
   ]
  }
 ],
 "metadata": {
  "kernelspec": {
   "display_name": "Python 3 (ipykernel)",
   "language": "python",
   "name": "python3"
  },
  "language_info": {
   "codemirror_mode": {
    "name": "ipython",
    "version": 3
   },
   "file_extension": ".py",
   "mimetype": "text/x-python",
   "name": "python",
   "nbconvert_exporter": "python",
   "pygments_lexer": "ipython3",
   "version": "3.8.3"
  }
 },
 "nbformat": 4,
 "nbformat_minor": 5
}
